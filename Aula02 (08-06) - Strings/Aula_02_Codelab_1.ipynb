{
  "nbformat": 4,
  "nbformat_minor": 0,
  "metadata": {
    "colab": {
      "name": "Aula_02_Codelab_1.ipynb",
      "provenance": [],
      "collapsed_sections": [],
      "include_colab_link": true
    },
    "kernelspec": {
      "name": "python3",
      "display_name": "Python 3"
    },
    "language_info": {
      "name": "python"
    }
  },
  "cells": [
    {
      "cell_type": "markdown",
      "metadata": {
        "id": "view-in-github",
        "colab_type": "text"
      },
      "source": [
        "<a href=\"https://colab.research.google.com/github/lucasbanksys/iniciandoPython/blob/main/Aula_02_Codelab_1.ipynb\" target=\"_parent\"><img src=\"https://colab.research.google.com/assets/colab-badge.svg\" alt=\"Open In Colab\"/></a>"
      ]
    },
    {
      "cell_type": "markdown",
      "metadata": {
        "id": "n_igYcmdk6U9"
      },
      "source": [
        "# **Exercícios para treinar:**"
      ]
    },
    {
      "cell_type": "markdown",
      "metadata": {
        "id": "rRyZR6ZAlEHU"
      },
      "source": [
        "1. **Frase na tela** - Implemente um programa que escreve na tela a frase \"O primeiro programa a gente nunca esquece!\".\n",
        "\n",
        "2. **Etiqueta** - Elabore um programa que escreve seu nome completo na primeira linha, seu endereço na segunda e o CEP e telefone na terceira.\n",
        "\n",
        "3. **Letra de música** - Faça um programa que mostre na tela uma letra de música que você gosta (proibido letras do Justin Bieber).\n",
        "\n",
        "4. **Tabela de notas** - Você foi contratado ou contratada por uma escola pra fazer o sistema de boletim dos alunos. Como primeiro passo, escreva um programa que produza a seguinte saída:\n",
        "```\n",
        "ALUNO (A)  NOTA\n",
        "=========  ====\n",
        "ALINE      9.0\n",
        "MÁRIO      DEZ\n",
        "SÉRGIO     4.5\n",
        "SHIRLEY    7.0\n",
        "```\n",
        "\n",
        "5. **Menu** - Elabore um programa que mostre o seguinte menu na tela:\n",
        "```\n",
        "Cadastro de Clientes\n",
        "0 - Fim\n",
        "1 - Inclui\n",
        "2 - Altera\n",
        "3 - Exclui\n",
        "4 - Consulta\n",
        "Digite uma opção: \n",
        "```\n",
        "Ao digitar um valor para a opção, o programa exibe qual opção foi escolhida.\n",
        "```\n",
        "Você escolheu a opção '0'.\n",
        "```\n",
        "\n",
        "6. **Calculadora de Dano** - Escreva um programa que receba dois valores digitados pelo usuário:\n",
        "  - Quantidade de vida de um monstro (entre 10 e 50);\n",
        "  - Valor do ataque do jogador por turno (entre 5 e 10);\n",
        "  - Baseado nos valores digitados, exiba a quantidade de turnos que o jogador irá demorar para conseguir derrotar o monstro.\n",
        "  - ```\n",
        "    O jogador irá derrotar o monstro em 8 turnos.\n",
        "    ```"
      ]
    },
    {
      "cell_type": "code",
      "metadata": {
        "id": "hpCJUWqL80lm"
      },
      "source": [
        "print(\"O primeiro programa a gente nunca esquece!\")"
      ],
      "execution_count": null,
      "outputs": []
    },
    {
      "cell_type": "code",
      "metadata": {
        "colab": {
          "base_uri": "https://localhost:8080/"
        },
        "id": "jyGNpNQS85UP",
        "outputId": "76403083-7266-49f0-df3e-b93e8265c400"
      },
      "source": [
        "nome = \"Lucas Soares\"\n",
        "endereco = \"Rua Fulano de Tal\"\n",
        "cep = \"CEP: 58000-000 e Telefone: 8398888-8888 \"\n",
        "\n",
        "print(f\"{nome}\\n{endereco}\\n{cep}\")"
      ],
      "execution_count": null,
      "outputs": [
        {
          "output_type": "stream",
          "text": [
            "Lucas Soares\n",
            "Rua Fulano de Tal\n",
            "CEP: 58000-000 e Telefone: 8398888-8888 \n"
          ],
          "name": "stdout"
        }
      ]
    },
    {
      "cell_type": "code",
      "metadata": {
        "colab": {
          "base_uri": "https://localhost:8080/"
        },
        "id": "LFhCb2Ur9ijm",
        "outputId": "add34ec4-56bb-44b6-aae4-e5b5957904f7"
      },
      "source": [
        "musica = \"Do I wanna know \\nif this feeling flows both ways \\nsad to see you go\"\n",
        "\n",
        "print(musica)"
      ],
      "execution_count": null,
      "outputs": [
        {
          "output_type": "stream",
          "text": [
            "Do I wanna know \n",
            "if this feeling flows both ways \n",
            "sad to see you go\n"
          ],
          "name": "stdout"
        }
      ]
    },
    {
      "cell_type": "code",
      "metadata": {
        "colab": {
          "base_uri": "https://localhost:8080/"
        },
        "id": "IVhgYhjY9xa1",
        "outputId": "9a7e195a-89ce-4e98-c7a6-d706dac1f9d2"
      },
      "source": [
        "print(\"ALUNO (A)    NOTA \\n=========    ===\\nALINE        9.0\\nMARIO        DEZ\\nSERGIO       4.5\\nSHIRLEY      7.0\")"
      ],
      "execution_count": null,
      "outputs": [
        {
          "output_type": "stream",
          "text": [
            "ALUNO (A)    NOTA \n",
            "=========    ===\n",
            "ALINE        9.0\n",
            "MARIO        DEZ\n",
            "SERGIO       4.5\n",
            "SHIRLEY      7.0\n"
          ],
          "name": "stdout"
        }
      ]
    },
    {
      "cell_type": "code",
      "metadata": {
        "colab": {
          "base_uri": "https://localhost:8080/"
        },
        "id": "9oqjHBBR_AOX",
        "outputId": "e1db4847-d325-4c15-a9ea-09b0a47bdb05"
      },
      "source": [
        "print(\"Cadastro de Clientes\\n0 - Fim\\n1 - Inclui\\n2 - Altera\\n3 - Exclui\\n4 - Consulta\\n\")\n",
        "opcao = input(\"Digite uma opção: \")\n",
        "print(f\"Voce escolheu a opcao '{opcao}'.\")"
      ],
      "execution_count": null,
      "outputs": [
        {
          "output_type": "stream",
          "text": [
            "Cadastro de Clientes\n",
            "0 - Fim\n",
            "1 - Inclui\n",
            "2 - Altera\n",
            "3 - Exclui\n",
            "4 - Consulta\n",
            "\n",
            "Digite uma opção: 1\n",
            "Voce escolheu a opcao '1'\n"
          ],
          "name": "stdout"
        }
      ]
    },
    {
      "cell_type": "code",
      "metadata": {
        "colab": {
          "base_uri": "https://localhost:8080/"
        },
        "id": "n-Ew3wmuENPM",
        "outputId": "9aff4060-bd61-40f6-e4dd-8fe7934ba24d"
      },
      "source": [
        "vidaMonstro = int(input(\"Digite o valor da vida do monstro (entre 10 e 50)? \"))\n",
        "ataqueJogador = int(input(\"Digite o valor do ataque do jogador por turno (entre 5 e 10): \"))\n",
        "turnos = vidaMonstro//ataqueJogador\n",
        "\n",
        "print(f\"O jogador irá derrotar o monstro em {turnos} turno(s).\")"
      ],
      "execution_count": null,
      "outputs": [
        {
          "output_type": "stream",
          "text": [
            "Digite o valor da vida do monstro (entre 10 e 50)? 10\n",
            "Digite o valor do ataque do jogador por turno (entre 5 e 10): 5\n",
            "O jogador irá derrotar o monstro em 2 turno(s).\n"
          ],
          "name": "stdout"
        }
      ]
    },
    {
      "cell_type": "markdown",
      "metadata": {
        "id": "HqgnPaCGqMPB"
      },
      "source": [
        "# Exercícios"
      ]
    },
    {
      "cell_type": "markdown",
      "metadata": {
        "id": "U-ltrv0jqPBq"
      },
      "source": [
        "## #01 - E os 10% do garçom?**\n",
        "\n",
        "- Defina uma variável para o valor de uma refeição que custou R$ 42,54;\n",
        "\n",
        "- Defina uma variável para o valor da taxa de serviço que é de 10%;\n",
        "\n",
        "- Defina uma variável que calcula o valor total da conta e exiba-o no console com essa formatação: R$ XXXX.XX."
      ]
    },
    {
      "cell_type": "code",
      "metadata": {
        "id": "jbcSv4NFkB1C",
        "colab": {
          "base_uri": "https://localhost:8080/"
        },
        "outputId": "fd3ce9c7-0d31-4107-9c86-976266b1af8b"
      },
      "source": [
        "valorRefeicao = 42.54\n",
        "valorTaxa = 0.1\n",
        "valorTotal = valorRefeicao * valorTaxa\n",
        "\n",
        "print(f\"O valor total da refeicão foi de: R$ {valorRefeicao + valorTotal:.2f}.\")"
      ],
      "execution_count": null,
      "outputs": [
        {
          "output_type": "stream",
          "text": [
            "O valor total da refeicão foi de: R$ 46.79.\n"
          ],
          "name": "stdout"
        }
      ]
    },
    {
      "cell_type": "markdown",
      "metadata": {
        "id": "JR3-KgsTqR41"
      },
      "source": [
        "## #02 - Qual o valor do troco?\n",
        "\n",
        "*   Defina uma variável para o valor de uma compra que custou R$100,98;\n",
        "\n",
        "*   Defina uma variável para o valor que o cliente pagou R$150,00;\n",
        "\n",
        "*   Defina uma variável que calcula o valor do troco e exiba-o no console com o valor final arredondado."
      ]
    },
    {
      "cell_type": "code",
      "metadata": {
        "id": "hBf3kE_pksAI",
        "colab": {
          "base_uri": "https://localhost:8080/"
        },
        "outputId": "ed5ff685-23fe-48aa-853d-b2ee47f867f0"
      },
      "source": [
        "valorCompra = 100.98\n",
        "valorPago = 150.00\n",
        "valorTroco = int(valorPago - valorCompra)\n",
        "\n",
        "print(f\"O valor do troco é de: R$ {valorTroco},00.\")"
      ],
      "execution_count": null,
      "outputs": [
        {
          "output_type": "stream",
          "text": [
            "O valor do troco é de: R$ 49,00.\n"
          ],
          "name": "stdout"
        }
      ]
    },
    {
      "cell_type": "markdown",
      "metadata": {
        "id": "2Uu84Uqtkunt"
      },
      "source": [
        "## #03 - Você está na flor da idade?\n",
        "\n",
        "*  Defina uma variável para o valor do ano do nascimento;\n",
        "*  Defina uma variável para o valor do ano atual;\n",
        "*  Defina uma variável que calcula o valor final da idade da pessoa;\n",
        "*  Exiba uma mensagem final dizendo a idade da pessoa e a mensagem \"Você está na flor da idade\"."
      ]
    },
    {
      "cell_type": "code",
      "metadata": {
        "id": "kyXxJV3nk14Z",
        "colab": {
          "base_uri": "https://localhost:8080/"
        },
        "outputId": "47747571-1be3-46b6-8270-f9c565b748ed"
      },
      "source": [
        "anoNascimento =  1992\n",
        "anoAtual = 2021\n",
        "idadeAtual = anoAtual - anoNascimento\n",
        "print(f\"Sua idade é {idadeAtual}. Você  está na flor da idade.\")"
      ],
      "execution_count": null,
      "outputs": [
        {
          "output_type": "stream",
          "text": [
            "Sua idade é 29. Você  está na flor da idade.\n"
          ],
          "name": "stdout"
        }
      ]
    },
    {
      "cell_type": "markdown",
      "metadata": {
        "id": "w1T7s2q0p-pt"
      },
      "source": [
        "# Mini projetos"
      ]
    },
    {
      "cell_type": "markdown",
      "metadata": {
        "id": "meUw7PTwqC-Y"
      },
      "source": [
        "## #01 - Conversor de moedas\n",
        "\n",
        "Crie um programa que solicite um um valor em real ao usuário e converta esse valor, para:\n",
        "\n",
        "- DOLAR, 5,04\n",
        "- EURO, 6,13\n",
        "- LIBRA ESTERLINA, 7,13\n",
        "- DÓLAR CANADENSE, 4,16\n",
        "- PESO ARGENTINO, 0,053\n",
        "- PESO CHILENO. 0,0070\n",
        "\n",
        "Para esse exercício você precisará realizar uma pesquisa para saber a cotação de cada moeda em real. Mostrar o resultado no formato $ XXXX.XX"
      ]
    },
    {
      "cell_type": "code",
      "metadata": {
        "id": "q481snSClrXe",
        "colab": {
          "base_uri": "https://localhost:8080/"
        },
        "outputId": "8818cae0-4762-43b1-e5d0-2933e7505e2c"
      },
      "source": [
        "valorInicial = float(input(\"Digite um valor para ser convertido: \"))\n",
        "dolar = valorInicial / 5.04\n",
        "euro = valorInicial / .13\n",
        "libraEst = valorInicial / 7.13\n",
        "dolarCanadense = valorInicial / 4.16\n",
        "pesoArgentino = valorInicial / 0.053\n",
        "pesoChileno = valorInicial / 0.0070\n",
        "\n",
        "print(f\"O valor inicial foi de R$ {valorInicial:.2f}. \\n Em dólar: $ {dolar:.2f}  \\n Em euro: $ {euro:.2f}  \\n Em libra esterlina: $ {libraEst:.2f}  \\n Em dólar canadense: $ {dolarCanadense:.2f}  \\n Em peso argentino: $ {pesoArgentino:.2f} \\n Em peso chileno: $ {pesoChileno:.2f} \")"
      ],
      "execution_count": null,
      "outputs": [
        {
          "output_type": "stream",
          "text": [
            "Digite um valor para ser convertido: 1\n",
            "O valor inicial foi de R$ 1.00. \n",
            " Em dólar: $ 0.20  \n",
            " Em euro: $ 7.69  \n",
            " Em libra esterlina: $ 0.14  \n",
            " Em dólar canadense: $ 0.24  \n",
            " Em peso argentino: $ 18.87 \n",
            " Em peso chileno: $ 142.86 \n"
          ],
          "name": "stdout"
        }
      ]
    },
    {
      "cell_type": "markdown",
      "metadata": {
        "id": "KK9PIcJ4qIF9"
      },
      "source": [
        "## #02 - Calculadora de aumento de aluguel\n",
        "\n",
        "Vamos construir um programa que irá calcular o aumento anual do seu aluguel em duas partes:\n",
        "\n",
        "### Parte 1\n",
        "A sua calculadora vai receber o `valor do aluguel` e calcular o aumento baseado no `IGPM de 31%`. A calculadora deve apresentar o aluguel reajustado no formato `R$ XXXX.XX`\n",
        "\n",
        "**Exemplo:**\n",
        "```\n",
        "Valor do aluguel = 1000\n",
        "Valor do aluguel reajustado = R$ 1310,00"
      ]
    },
    {
      "cell_type": "code",
      "metadata": {
        "id": "VdjHa9Csl0Lg",
        "colab": {
          "base_uri": "https://localhost:8080/"
        },
        "outputId": "372dcf9d-4180-4b57-ad33-db5dc9c59c0d"
      },
      "source": [
        "valorAluguel = float(input(\"Digite o valor do aluguel: \"))\n",
        "valorReajustado = valorAluguel + valorAluguel*0.31\n",
        "\n",
        "print(f\"Valor do aluguel = R$ {valorAluguel:.2f}. Valor do aluguel reajustado = R$ {valorReajustado:.2f}\")"
      ],
      "execution_count": null,
      "outputs": [
        {
          "output_type": "stream",
          "text": [
            "Digite o valor do aluguel: 1000\n",
            "Valor do aluguel = R$ 1000.00. Valor do aluguel reajustado = R$ 1310.00\n"
          ],
          "name": "stdout"
        }
      ]
    },
    {
      "cell_type": "markdown",
      "metadata": {
        "id": "lKTwnuNMl8rP"
      },
      "source": [
        "### Parte 2\n",
        "Agora, altere sua calculadora para receber além do `valor do aluguel`, o percentual do reajuste no formato `XX%`.  \n",
        "\n",
        "**Dica:** Descubra uma forma de transformar o percentual recebido em um número para efetuar o cálculo.\n",
        "\n",
        "**Exemplo:**\n",
        "```\n",
        "Valor do aluguel = 1000\n",
        "Percentual do reajuste = 31%\n",
        "Valor do aluguel reajustado = R% 1310,00\n",
        "```"
      ]
    },
    {
      "cell_type": "code",
      "metadata": {
        "id": "aw2Zk_9KmA85",
        "colab": {
          "base_uri": "https://localhost:8080/"
        },
        "outputId": "8831a989-c146-400a-be1c-8a46c0501003"
      },
      "source": [
        "valorAluguel = float(input(\"Digite o valor do aluguel: \"))\n",
        "percentual = (input(\"Digite o percentual de reajuste (XX%): \"))\n",
        "porcento = float(percentual.replace(\"%\",\"\"))\n",
        "print(f\"Valor do aluguel reajustado: R$ {(valorAluguel+valorAluguel*porcento/100):.2f}.\")"
      ],
      "execution_count": null,
      "outputs": [
        {
          "output_type": "stream",
          "text": [
            "Digite o valor do aluguel: 1000\n",
            "Digite o percentual de reajuste (XX%): 31%\n",
            "Valor do aluguel reajustado: R$ 1310.00.\n"
          ],
          "name": "stdout"
        }
      ]
    }
  ]
}